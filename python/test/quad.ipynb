{
 "cells": [
  {
   "cell_type": "code",
   "execution_count": 35,
   "metadata": {},
   "outputs": [
    {
     "name": "stdout",
     "output_type": "stream",
     "text": [
      "please enter the quadratic equation in the form : ax2+bx+c=0\n",
      "5x2+6x+6=0\n",
      "The quadratic equation has 2 complex roots:  (-0.6+0.916515138991168j)  and  (-0.6-0.916515138991168j)\n"
     ]
    }
   ],
   "source": [
    "#input of quadratic equation\n",
    "print(\"please enter the quadratic equation in the form : ax2+bx+c=0\")\n",
    "eqn =input()\n",
    "#splitting the qudratic equation\n",
    "stra = eqn.split('+')\n",
    "#extractig and printing the coefficient of x^2\n",
    "vara = stra[0].split('x')\n",
    "a = int(vara[0])\n",
    "#extracting and printing the coefficient of x\n",
    "varb = stra[1].split('x')\n",
    "b=int(varb[0])\n",
    "#extracting and printing the constant\n",
    "varc = stra[2].split('=')\n",
    "c = int(varc[0])\n",
    "#calculating the discriminant\n",
    "d = (b**2) - (4*a*c)\n",
    "#calculating the roots\n",
    "import math\n",
    "if d >= 0:\n",
    "    r1=(-b+math.sqrt(d))/2*a\n",
    "    r2=(-b-math.sqrt(d))/2*a\n",
    "else:\n",
    "    r1= complex((-b/(2*a)),math.sqrt(-d)/(2*a))\n",
    "    r2= complex((-b/(2*a)),-math.sqrt(-d)/(2*a))\n",
    "#printing the roots depending on the discriminant\n",
    "if d > 0:\n",
    "    print(\"The quadratic equation has 2 distinct real roots: \", r1, \" and \", r2)\n",
    "elif d == 0:\n",
    "    print(\"The quadratic equation 2 double roots: \", r1)\n",
    "else:\n",
    "    print(\"The quadratic equation has 2 complex roots: \", r1, \" and \", r2)"
   ]
  },
  {
   "cell_type": "code",
   "execution_count": null,
   "metadata": {},
   "outputs": [],
   "source": []
  },
  {
   "cell_type": "code",
   "execution_count": null,
   "metadata": {},
   "outputs": [],
   "source": []
  },
  {
   "cell_type": "code",
   "execution_count": null,
   "metadata": {},
   "outputs": [],
   "source": []
  },
  {
   "cell_type": "code",
   "execution_count": null,
   "metadata": {},
   "outputs": [],
   "source": []
  },
  {
   "cell_type": "code",
   "execution_count": null,
   "metadata": {},
   "outputs": [],
   "source": []
  },
  {
   "cell_type": "code",
   "execution_count": null,
   "metadata": {},
   "outputs": [],
   "source": []
  },
  {
   "cell_type": "code",
   "execution_count": null,
   "metadata": {},
   "outputs": [],
   "source": []
  }
 ],
 "metadata": {
  "kernelspec": {
   "display_name": "Python 3",
   "language": "python",
   "name": "python3"
  },
  "language_info": {
   "codemirror_mode": {
    "name": "ipython",
    "version": 3
   },
   "file_extension": ".py",
   "mimetype": "text/x-python",
   "name": "python",
   "nbconvert_exporter": "python",
   "pygments_lexer": "ipython3",
   "version": "3.7.4"
  }
 },
 "nbformat": 4,
 "nbformat_minor": 2
}
