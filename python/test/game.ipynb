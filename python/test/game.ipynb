{
 "cells": [
  {
   "cell_type": "code",
   "execution_count": null,
   "metadata": {},
   "outputs": [],
   "source": [
    "won=2\n",
    "draw=1\n",
    "lost=0\n",
    "teams=['1','2','3','4','5','6','7','8','9','10','1','12','13','14','15','16']\n",
    "poola=['1','2','3','4']\n",
    "poolb=['5','6','7','8']\n",
    "poolc=['9','10','11','12']\n",
    "d=['13','14','15','16']\n",
    "\n",
    "def winner(a):\n",
    "   "
   ]
  }
 ],
 "metadata": {
  "kernelspec": {
   "display_name": "Python 3",
   "language": "python",
   "name": "python3"
  },
  "language_info": {
   "codemirror_mode": {
    "name": "ipython",
    "version": 3
   },
   "file_extension": ".py",
   "mimetype": "text/x-python",
   "name": "python",
   "nbconvert_exporter": "python",
   "pygments_lexer": "ipython3",
   "version": "3.7.4"
  }
 },
 "nbformat": 4,
 "nbformat_minor": 2
}
