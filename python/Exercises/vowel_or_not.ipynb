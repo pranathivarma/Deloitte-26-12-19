{
 "cells": [
  {
   "cell_type": "code",
   "execution_count": 7,
   "metadata": {},
   "outputs": [
    {
     "name": "stdout",
     "output_type": "stream",
     "text": [
      "Enter a letter: u\n",
      "It's a vowel\n"
     ]
    }
   ],
   "source": [
    "letter = input(\"Enter a letter: \")\n",
    "temp = letter.capitalize()\n",
    "if temp == \"A\":\n",
    "    print(\"It's a vowel\")\n",
    "elif temp == \"E\":\n",
    "    print(\"It's a vowel\")\n",
    "elif temp == \"I\":\n",
    "    print(\"It's a vowel\")\n",
    "elif temp == \"O\":\n",
    "    print(\"It's a vowel\")\n",
    "elif temp == \"U\":\n",
    "    print(\"It's a vowel\")\n",
    "else: \n",
    "    print(\"It's not a vowel\")"
   ]
  },
  {
   "cell_type": "code",
   "execution_count": null,
   "metadata": {},
   "outputs": [],
   "source": []
  }
 ],
 "metadata": {
  "kernelspec": {
   "display_name": "Python 3",
   "language": "python",
   "name": "python3"
  },
  "language_info": {
   "codemirror_mode": {
    "name": "ipython",
    "version": 3
   },
   "file_extension": ".py",
   "mimetype": "text/x-python",
   "name": "python",
   "nbconvert_exporter": "python",
   "pygments_lexer": "ipython3",
   "version": "3.7.4"
  }
 },
 "nbformat": 4,
 "nbformat_minor": 2
}
