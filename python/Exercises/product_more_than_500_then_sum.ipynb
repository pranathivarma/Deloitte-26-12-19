{
 "cells": [
  {
   "cell_type": "code",
   "execution_count": 3,
   "metadata": {},
   "outputs": [
    {
     "name": "stdout",
     "output_type": "stream",
     "text": [
      "Enter the values: \n",
      "34\n",
      "67\n",
      "The sum is:  101\n"
     ]
    }
   ],
   "source": [
    "print(\"Enter the values: \")\n",
    "a = int(input())\n",
    "b = int(input())\n",
    "prdab = a*b\n",
    "if prdab<500:\n",
    "    print(\"The product is: \",prdab)\n",
    "else:\n",
    "    print(\"The sum is: \",(a+b))\n",
    "    "
   ]
  },
  {
   "cell_type": "code",
   "execution_count": null,
   "metadata": {},
   "outputs": [],
   "source": []
  }
 ],
 "metadata": {
  "kernelspec": {
   "display_name": "Python 3",
   "language": "python",
   "name": "python3"
  },
  "language_info": {
   "codemirror_mode": {
    "name": "ipython",
    "version": 3
   },
   "file_extension": ".py",
   "mimetype": "text/x-python",
   "name": "python",
   "nbconvert_exporter": "python",
   "pygments_lexer": "ipython3",
   "version": "3.7.4"
  }
 },
 "nbformat": 4,
 "nbformat_minor": 2
}
