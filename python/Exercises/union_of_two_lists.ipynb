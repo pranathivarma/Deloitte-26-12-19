{
 "cells": [
  {
   "cell_type": "code",
   "execution_count": 2,
   "metadata": {},
   "outputs": [
    {
     "name": "stdout",
     "output_type": "stream",
     "text": [
      "Enter the length of the String: 4\n",
      "1\n",
      "3\n",
      "5\n",
      "7\n",
      "Enter the length of the String: 5\n",
      "1\n",
      "3\n",
      "8\n",
      "0\n",
      "6\n",
      "The union of the two lists is: \n",
      "[0, 1, 3, 5, 6, 7, 8]\n"
     ]
    }
   ],
   "source": [
    "def getList(length):\n",
    "    i = 0\n",
    "    listb = []\n",
    "    for i in range(length):\n",
    "        listb.append(int(input()))\n",
    "    return listb\n",
    "lista = getList(int(input(\"Enter the length of the String: \")))\n",
    "listb = getList(int(input(\"Enter the length of the String: \")))\n",
    "seta = set(lista)\n",
    "setb = set(listb)\n",
    "temp = seta.union(setb)\n",
    "listf = list(temp)\n",
    "print(\"The union of the two lists is: \")\n",
    "print(listf)"
   ]
  },
  {
   "cell_type": "code",
   "execution_count": null,
   "metadata": {},
   "outputs": [],
   "source": []
  }
 ],
 "metadata": {
  "kernelspec": {
   "display_name": "Python 3",
   "language": "python",
   "name": "python3"
  },
  "language_info": {
   "codemirror_mode": {
    "name": "ipython",
    "version": 3
   },
   "file_extension": ".py",
   "mimetype": "text/x-python",
   "name": "python",
   "nbconvert_exporter": "python",
   "pygments_lexer": "ipython3",
   "version": "3.7.4"
  }
 },
 "nbformat": 4,
 "nbformat_minor": 2
}
