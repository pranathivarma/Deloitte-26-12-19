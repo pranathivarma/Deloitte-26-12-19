{
 "cells": [
  {
   "cell_type": "code",
   "execution_count": 10,
   "metadata": {},
   "outputs": [
    {
     "name": "stdout",
     "output_type": "stream",
     "text": [
      "Enter the length of the String: 4\n",
      "1\n",
      "3\n",
      "5\n",
      "7\n",
      "The average of the centre values are:  4.0\n"
     ]
    }
   ],
   "source": [
    "def getList(length):\n",
    "    i = 0\n",
    "    global listb\n",
    "    for i in range(length):\n",
    "        listb.append(int(input()))\n",
    "listb = []\n",
    "getList(int(input(\"Enter the length of the String: \")))\n",
    "length = len(listb)\n",
    "if length%2!=0:\n",
    "    print(\"The centre value is: \",listb[len(listb)//2])\n",
    "else :\n",
    "    mid = len(listb)//2\n",
    "    avg = listb[mid] + listb[mid-1] \n",
    "    avg = avg/2\n",
    "    print(\"The average of the centre values are: \",avg)"
   ]
  },
  {
   "cell_type": "code",
   "execution_count": null,
   "metadata": {},
   "outputs": [],
   "source": []
  }
 ],
 "metadata": {
  "kernelspec": {
   "display_name": "Python 3",
   "language": "python",
   "name": "python3"
  },
  "language_info": {
   "codemirror_mode": {
    "name": "ipython",
    "version": 3
   },
   "file_extension": ".py",
   "mimetype": "text/x-python",
   "name": "python",
   "nbconvert_exporter": "python",
   "pygments_lexer": "ipython3",
   "version": "3.7.4"
  }
 },
 "nbformat": 4,
 "nbformat_minor": 2
}
