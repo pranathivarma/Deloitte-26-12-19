{
 "cells": [
  {
   "cell_type": "code",
   "execution_count": 2,
   "metadata": {},
   "outputs": [
    {
     "name": "stdout",
     "output_type": "stream",
     "text": [
      "Enter the length of the String: 5\n",
      "12\n",
      "10\n",
      "70\n",
      "77\n",
      "45\n",
      "Numbers divisible by 10: \n",
      "10\n",
      "70\n"
     ]
    }
   ],
   "source": [
    "def getList(length):\n",
    "    i = 0\n",
    "    global listb\n",
    "    for i in range(length):\n",
    "        listb.append(int(input()))\n",
    "listb = []\n",
    "getList(int(input(\"Enter the length of the String: \")))\n",
    "print(\"Numbers divisible by 10: \")\n",
    "for i in listb:\n",
    "    if i%10 == 0:\n",
    "        print(i)\n",
    "    "
   ]
  },
  {
   "cell_type": "code",
   "execution_count": null,
   "metadata": {},
   "outputs": [],
   "source": []
  }
 ],
 "metadata": {
  "kernelspec": {
   "display_name": "Python 3",
   "language": "python",
   "name": "python3"
  },
  "language_info": {
   "codemirror_mode": {
    "name": "ipython",
    "version": 3
   },
   "file_extension": ".py",
   "mimetype": "text/x-python",
   "name": "python",
   "nbconvert_exporter": "python",
   "pygments_lexer": "ipython3",
   "version": "3.7.4"
  }
 },
 "nbformat": 4,
 "nbformat_minor": 2
}
