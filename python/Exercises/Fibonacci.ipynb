{
 "cells": [
  {
   "cell_type": "code",
   "execution_count": 7,
   "metadata": {},
   "outputs": [
    {
     "name": "stdout",
     "output_type": "stream",
     "text": [
      "Enter the size of the Fibonacci series: 10\n",
      "0 1 1 2 3 5 8 13 21 34 55 "
     ]
    }
   ],
   "source": [
    "def fibonacci(length):\n",
    "    l = length\n",
    "    b = +1\n",
    "    a = -1\n",
    "    n = 0\n",
    "    while l>0:\n",
    "        if(l==length):\n",
    "            n = a+b\n",
    "            a = n\n",
    "            print(a,end=\" \")\n",
    "            print(b,end =\" \")\n",
    "        else:\n",
    "            n = a+b\n",
    "            print(n,end=\" \")\n",
    "            temp = b\n",
    "            b = n\n",
    "            a = temp\n",
    "        l-=1\n",
    "length = int(input(\"Enter the size of the Fibonacci series: \"))\n",
    "fibonacci(length)"
   ]
  },
  {
   "cell_type": "code",
   "execution_count": null,
   "metadata": {},
   "outputs": [],
   "source": []
  }
 ],
 "metadata": {
  "kernelspec": {
   "display_name": "Python 3",
   "language": "python",
   "name": "python3"
  },
  "language_info": {
   "codemirror_mode": {
    "name": "ipython",
    "version": 3
   },
   "file_extension": ".py",
   "mimetype": "text/x-python",
   "name": "python",
   "nbconvert_exporter": "python",
   "pygments_lexer": "ipython3",
   "version": "3.7.4"
  }
 },
 "nbformat": 4,
 "nbformat_minor": 2
}
