{
 "cells": [
  {
   "cell_type": "code",
   "execution_count": 4,
   "metadata": {},
   "outputs": [
    {
     "name": "stdout",
     "output_type": "stream",
     "text": [
      "give the length of the list6\n",
      "1\n",
      "2\n",
      "5\n",
      "8\n",
      "9\n",
      "4\n",
      "the elements in the list that are less that 5 are\n",
      "1\n",
      "2\n",
      "4\n"
     ]
    }
   ],
   "source": [
    "lista = []\n",
    "length = int(input(\"give the length of the list\"))\n",
    "i = 0\n",
    "for i in range(length):\n",
    "    lista.append(int(input()))\n",
    "print(\"the elements in the list that are less that 5 are\")\n",
    "for i in range(len(lista)):\n",
    "    if(lista[i]<5):\n",
    "        print(lista[i])"
   ]
  },
  {
   "cell_type": "code",
   "execution_count": null,
   "metadata": {},
   "outputs": [],
   "source": []
  }
 ],
 "metadata": {
  "kernelspec": {
   "display_name": "Python 3",
   "language": "python",
   "name": "python3"
  },
  "language_info": {
   "codemirror_mode": {
    "name": "ipython",
    "version": 3
   },
   "file_extension": ".py",
   "mimetype": "text/x-python",
   "name": "python",
   "nbconvert_exporter": "python",
   "pygments_lexer": "ipython3",
   "version": "3.7.4"
  }
 },
 "nbformat": 4,
 "nbformat_minor": 2
}
