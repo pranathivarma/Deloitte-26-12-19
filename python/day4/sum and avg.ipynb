{
 "cells": [
  {
   "cell_type": "code",
   "execution_count": 4,
   "metadata": {},
   "outputs": [
    {
     "name": "stdout",
     "output_type": "stream",
     "text": [
      "please give the input numbers\n",
      "2\n",
      "5\n",
      "the sum of the numbers is  7\n",
      "the average of both the numbers is  3\n"
     ]
    }
   ],
   "source": [
    "print('please give the input numbers')\n",
    "a=eval(input())\n",
    "b=eval(input())\n",
    "total = a+b\n",
    "avg = total/2\n",
    "print(\"the sum of the numbers is \",total)\n",
    "print(\"the average of both the numbers is \",int(avg))"
   ]
  },
  {
   "cell_type": "code",
   "execution_count": null,
   "metadata": {},
   "outputs": [],
   "source": [
    "    "
   ]
  },
  {
   "cell_type": "code",
   "execution_count": null,
   "metadata": {},
   "outputs": [],
   "source": []
  }
 ],
 "metadata": {
  "kernelspec": {
   "display_name": "Python 3",
   "language": "python",
   "name": "python3"
  },
  "language_info": {
   "codemirror_mode": {
    "name": "ipython",
    "version": 3
   },
   "file_extension": ".py",
   "mimetype": "text/x-python",
   "name": "python",
   "nbconvert_exporter": "python",
   "pygments_lexer": "ipython3",
   "version": "3.7.4"
  }
 },
 "nbformat": 4,
 "nbformat_minor": 2
}
