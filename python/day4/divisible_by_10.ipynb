{
 "cells": [
  {
   "cell_type": "code",
   "execution_count": 6,
   "metadata": {},
   "outputs": [
    {
     "name": "stdout",
     "output_type": "stream",
     "text": [
      "give the length of the list5\n",
      "enter the numbers\n",
      "40\n",
      "5\n",
      "80\n",
      "6\n",
      "10\n",
      "the numbers divisible by 10 are\n",
      "40 80 10 "
     ]
    }
   ],
   "source": [
    "lista = []\n",
    "length = int(input(\"give the length of the list\"))\n",
    "i = 0\n",
    "print(\"enter the numbers\")\n",
    "for i in range(length):\n",
    "    lista.append(int(input()))\n",
    "print(\"the numbers divisible by 10 are\")\n",
    "for i in range(length):\n",
    "    if lista[i]%10==0:\n",
    "        print(lista[i], end=\" \")\n",
    "    "
   ]
  },
  {
   "cell_type": "code",
   "execution_count": null,
   "metadata": {},
   "outputs": [],
   "source": []
  }
 ],
 "metadata": {
  "kernelspec": {
   "display_name": "Python 3",
   "language": "python",
   "name": "python3"
  },
  "language_info": {
   "codemirror_mode": {
    "name": "ipython",
    "version": 3
   },
   "file_extension": ".py",
   "mimetype": "text/x-python",
   "name": "python",
   "nbconvert_exporter": "python",
   "pygments_lexer": "ipython3",
   "version": "3.7.4"
  }
 },
 "nbformat": 4,
 "nbformat_minor": 2
}
