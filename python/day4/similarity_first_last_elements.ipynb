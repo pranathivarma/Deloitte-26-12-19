{
 "cells": [
  {
   "cell_type": "code",
   "execution_count": 5,
   "metadata": {},
   "outputs": [
    {
     "name": "stdout",
     "output_type": "stream",
     "text": [
      "give the length of the list5\n",
      "enter the numbers\n",
      "1\n",
      "2\n",
      "3\n",
      "5\n",
      "6\n",
      "they are not same\n"
     ]
    }
   ],
   "source": [
    "lista = []\n",
    "length = int(input(\"give the length of the list\"))\n",
    "i = 0\n",
    "print(\"enter the numbers\")\n",
    "for i in range(length):\n",
    "    lista.append(int(input()))\n",
    "if lista[0] == lista[-1]:\n",
    "    print(\"both the first and last elements in the list are same\")\n",
    "else:\n",
    "    print(\"they are not same\")\n"
   ]
  },
  {
   "cell_type": "code",
   "execution_count": null,
   "metadata": {},
   "outputs": [],
   "source": []
  }
 ],
 "metadata": {
  "kernelspec": {
   "display_name": "Python 3",
   "language": "python",
   "name": "python3"
  },
  "language_info": {
   "codemirror_mode": {
    "name": "ipython",
    "version": 3
   },
   "file_extension": ".py",
   "mimetype": "text/x-python",
   "name": "python",
   "nbconvert_exporter": "python",
   "pygments_lexer": "ipython3",
   "version": "3.7.4"
  }
 },
 "nbformat": 4,
 "nbformat_minor": 2
}
