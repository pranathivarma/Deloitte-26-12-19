{
 "cells": [
  {
   "cell_type": "code",
   "execution_count": 4,
   "metadata": {},
   "outputs": [
    {
     "name": "stdout",
     "output_type": "stream",
     "text": [
      "please enter an alphabet to check whether its a vowel or not\n",
      "l\n",
      "it is not a vowel\n"
     ]
    }
   ],
   "source": [
    "print(\"please enter an alphabet to check whether its a vowel or not\")\n",
    "i = \"it is a vowel\"\n",
    "char = input()\n",
    "if char == 'a':\n",
    "    print(i)\n",
    "elif char == 'e':\n",
    "    print(i)\n",
    "elif char == 'i':\n",
    "    print(i)\n",
    "elif char == 'o':\n",
    "    print(i)\n",
    "elif char == 'u':\n",
    "    print(i)\n",
    "else:\n",
    "    print(\"it is not a vowel\")\n"
   ]
  },
  {
   "cell_type": "code",
   "execution_count": null,
   "metadata": {},
   "outputs": [],
   "source": []
  }
 ],
 "metadata": {
  "kernelspec": {
   "display_name": "Python 3",
   "language": "python",
   "name": "python3"
  },
  "language_info": {
   "codemirror_mode": {
    "name": "ipython",
    "version": 3
   },
   "file_extension": ".py",
   "mimetype": "text/x-python",
   "name": "python",
   "nbconvert_exporter": "python",
   "pygments_lexer": "ipython3",
   "version": "3.7.4"
  }
 },
 "nbformat": 4,
 "nbformat_minor": 2
}
