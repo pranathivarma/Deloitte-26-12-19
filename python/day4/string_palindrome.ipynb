{
 "cells": [
  {
   "cell_type": "code",
   "execution_count": 7,
   "metadata": {},
   "outputs": [
    {
     "name": "stdout",
     "output_type": "stream",
     "text": [
      "enter the string: dad\n",
      "it is a palindrome\n"
     ]
    }
   ],
   "source": [
    "str = input(\"enter the string: \")\n",
    "temp1=str.capitalize()\n",
    "temp2=str.capitalize()\n",
    "for i in range(len(str)):\n",
    "    if temp1[i]==temp2[len(str)-1]:\n",
    "        j=\"it is a palindrome\"\n",
    "    else:\n",
    "        j=\"it is not a palindrome\"\n",
    "print(j)"
   ]
  },
  {
   "cell_type": "code",
   "execution_count": 10,
   "metadata": {},
   "outputs": [
    {
     "name": "stdout",
     "output_type": "stream",
     "text": [
      "enter the string: malayalam\n",
      "it is a palindrome\n"
     ]
    }
   ],
   "source": [
    "stra = input(\"enter the string: \")\n",
    "temp = stra[::-1]\n",
    "if temp == stra:\n",
    "    j=\"it is a palindrome\"\n",
    "else:\n",
    "    j=\"it is not a palindrome\"\n",
    "print(j)"
   ]
  },
  {
   "cell_type": "code",
   "execution_count": null,
   "metadata": {},
   "outputs": [],
   "source": []
  }
 ],
 "metadata": {
  "kernelspec": {
   "display_name": "Python 3",
   "language": "python",
   "name": "python3"
  },
  "language_info": {
   "codemirror_mode": {
    "name": "ipython",
    "version": 3
   },
   "file_extension": ".py",
   "mimetype": "text/x-python",
   "name": "python",
   "nbconvert_exporter": "python",
   "pygments_lexer": "ipython3",
   "version": "3.7.4"
  }
 },
 "nbformat": 4,
 "nbformat_minor": 2
}
