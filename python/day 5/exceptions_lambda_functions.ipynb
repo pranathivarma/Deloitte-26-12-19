{
 "cells": [
  {
   "cell_type": "code",
   "execution_count": 9,
   "metadata": {},
   "outputs": [],
   "source": [
    "lista = [2,3,4,5]\n",
    "listb = list(filter(lambda x: bool(x%2==0),lista))"
   ]
  },
  {
   "cell_type": "code",
   "execution_count": 10,
   "metadata": {},
   "outputs": [
    {
     "name": "stdout",
     "output_type": "stream",
     "text": [
      "[2, 4]\n"
     ]
    }
   ],
   "source": [
    "print(listb)"
   ]
  },
  {
   "cell_type": "code",
   "execution_count": null,
   "metadata": {},
   "outputs": [],
   "source": [
    "class Error(Exception):\n",
    "    pass"
   ]
  },
  {
   "cell_type": "code",
   "execution_count": 12,
   "metadata": {},
   "outputs": [],
   "source": [
    "class custerror(Exception):\n",
    "    \"\"\"custom exception\"\"\"\n",
    "    pass"
   ]
  },
  {
   "cell_type": "code",
   "execution_count": 13,
   "metadata": {},
   "outputs": [],
   "source": [
    "class smallValueError(custerror):\n",
    "    \"\"\"Exception for small value error\"\"\"\n",
    "    pass"
   ]
  },
  {
   "cell_type": "code",
   "execution_count": 14,
   "metadata": {},
   "outputs": [],
   "source": [
    "class largevalueError(custerror):\n",
    "    \"\"\"Exception for large value error\"\"\"\n",
    "    pass"
   ]
  },
  {
   "cell_type": "code",
   "execution_count": 19,
   "metadata": {},
   "outputs": [
    {
     "name": "stdout",
     "output_type": "stream",
     "text": [
      "Enter a number: 10\n",
      "Exception for large value error\n",
      "Enter a number: 40\n",
      "Exception for small value error\n",
      "Enter a number: 20\n",
      "Congrats you got it right\n"
     ]
    }
   ],
   "source": [
    "while True :\n",
    "    try :\n",
    "        num = int(input(\"Enter a number: \"))\n",
    "        if(num>20):\n",
    "            raise smallValueError\n",
    "        if(num<20):\n",
    "            raise largevalueError\n",
    "        else:\n",
    "            break\n",
    "    except smallValueError:\n",
    "        print(smallValueError.__doc__)\n",
    "    except largevalueError:\n",
    "        print(largevalueError.__doc__)\n",
    "\n",
    "print(\"Congrats you got it right\")\n",
    "\n",
    "    "
   ]
  },
  {
   "cell_type": "code",
   "execution_count": null,
   "metadata": {},
   "outputs": [],
   "source": []
  }
 ],
 "metadata": {
  "kernelspec": {
   "display_name": "Python 3",
   "language": "python",
   "name": "python3"
  },
  "language_info": {
   "codemirror_mode": {
    "name": "ipython",
    "version": 3
   },
   "file_extension": ".py",
   "mimetype": "text/x-python",
   "name": "python",
   "nbconvert_exporter": "python",
   "pygments_lexer": "ipython3",
   "version": "3.7.4"
  }
 },
 "nbformat": 4,
 "nbformat_minor": 2
}
