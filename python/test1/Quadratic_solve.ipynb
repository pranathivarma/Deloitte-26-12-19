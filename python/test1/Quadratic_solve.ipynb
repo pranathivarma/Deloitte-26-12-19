{
 "cells": [
  {
   "cell_type": "code",
   "execution_count": 32,
   "metadata": {},
   "outputs": [
    {
     "name": "stdout",
     "output_type": "stream",
     "text": [
      "Enter the equation in the form: ax^2+bx+c\n",
      "3x^2+8x+2\n"
     ]
    }
   ],
   "source": [
    "import math\n",
    "print(\"Enter the equation in the form: ax^2+bx+c\")\n",
    "# get input\n",
    "eqn = input()"
   ]
  },
  {
   "cell_type": "code",
   "execution_count": 33,
   "metadata": {},
   "outputs": [
    {
     "name": "stdout",
     "output_type": "stream",
     "text": [
      "3\n",
      "8\n",
      "2\n"
     ]
    }
   ],
   "source": [
    "temp= 0\n",
    "# get a\n",
    "for temp in range(len(eqn)):\n",
    "    if (eqn[temp])==\"^\":\n",
    "        a = int(eqn[:temp-1])\n",
    "        acoeff = temp+2\n",
    "#get b\n",
    "for temp in range(acoeff+1,len(eqn)):\n",
    "    if (eqn[temp])==\"x\":\n",
    "        b = int(eqn[acoeff+1:temp])\n",
    "        bcoeff = temp\n",
    "# get c\n",
    "c = int(eqn[bcoeff+2:len(eqn)])\n",
    "print(a)\n",
    "print(b)\n",
    "print(c)"
   ]
  },
  {
   "cell_type": "code",
   "execution_count": 34,
   "metadata": {},
   "outputs": [
    {
     "name": "stdout",
     "output_type": "stream",
     "text": [
      "The roots are:  -0.2792407799438735 -2.3874258867227933\n"
     ]
    }
   ],
   "source": [
    "# find discriminant\n",
    "dtr = (b*b) - (4*a*c)\n",
    "# check for real or complex\n",
    "if dtr>=0:\n",
    "    root1 = -1*b + math.sqrt(dtr)\n",
    "    root1 = root1/(2*a)\n",
    "    root2 = -1*b - math.sqrt(dtr)\n",
    "    root2 = root2/(2*a)\n",
    "    print(\"The roots are: \",root1,root2)\n",
    "else :\n",
    "    dtr = -dtr\n",
    "    root1r = -1*b/(2*a)  \n",
    "    root1i = (math.sqrt(dtr)/(2*a))\n",
    "    print(\"The complex roots are: \",root1r,end = \" \")\n",
    "    print(\"+/-\",str(str(root1r)+\"i\"),end = \"\")"
   ]
  },
  {
   "cell_type": "code",
   "execution_count": null,
   "metadata": {},
   "outputs": [],
   "source": []
  }
 ],
 "metadata": {
  "kernelspec": {
   "display_name": "Python 3",
   "language": "python",
   "name": "python3"
  },
  "language_info": {
   "codemirror_mode": {
    "name": "ipython",
    "version": 3
   },
   "file_extension": ".py",
   "mimetype": "text/x-python",
   "name": "python",
   "nbconvert_exporter": "python",
   "pygments_lexer": "ipython3",
   "version": "3.7.4"
  }
 },
 "nbformat": 4,
 "nbformat_minor": 2
}
